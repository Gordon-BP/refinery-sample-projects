{
 "cells": [
  {
   "cell_type": "code",
   "execution_count": null,
   "metadata": {},
   "outputs": [],
   "source": [
    "import argparse\n",
    "import json\n",
    "import os\n",
    "import random\n",
    "from typing import Any, Dict, List, Union\n",
    "\n",
    "import pytorch_lightning as pl\n",
    "import torch\n",
    "from quaterion_models.encoders import Encoder\n",
    "from quaterion_models.heads import EncoderHead, GatedHead, SkipConnectionHead\n",
    "from quaterion_models.types import CollateFnType\n",
    "from torch.utils.data import Dataset\n",
    "\n",
    "from quaterion import Quaterion, TrainableModel\n",
    "from quaterion.loss import TripletLoss\n",
    "from quaterion.dataset.similarity_data_loader import (\n",
    "    GroupSimilarityDataLoader,\n",
    "    SimilarityGroupSample,\n",
    ")\n",
    "#import SkipConnectionHead\n",
    "\n",
    "\n",
    "import torch\n",
    "import torch.nn as nn\n",
    "\n",
    "from quaterion.loss import SimilarityLoss, SoftmaxLoss\n",
    "\n",
    "from sentence_transformers import SentenceTransformer\n",
    "from sentence_transformers.models import Transformer, Pooling\n",
    "\n",
    "import pandas as pd\n"
   ]
  },
  {
   "cell_type": "code",
   "execution_count": null,
   "metadata": {},
   "outputs": [],
   "source": [
    "with open(\"./labeled_data_train.json\", \"r\") as f:\n",
    "    data = json.loads(f.read())"
   ]
  },
  {
   "cell_type": "code",
   "execution_count": null,
   "metadata": {},
   "outputs": [],
   "source": [
    "from quaterion.dataset.similarity_data_loader import (\n",
    "    GroupSimilarityDataLoader,\n",
    "    SimilarityGroupSample,\n",
    ")\n",
    "import numpy as np\n",
    "class JsonDataset(Dataset):\n",
    "    def __init__(self, path: str):\n",
    "        super().__init__()\n",
    "        with open(path, \"r\") as f:\n",
    "            self.data = json.loads(f.read())\n",
    "            # self.data = [json.loads(line) for line in f.readlines()]\n",
    "\n",
    "    def __getitem__(self, index: int) -> SimilarityGroupSample:\n",
    "        item = self.data[index]\n",
    "        grp = np.random.randint(0,5)\n",
    "        return SimilarityGroupSample(obj=item, group=grp)\n",
    "\n",
    "    def __len__(self) -> int:\n",
    "        return len(self.data)\n",
    "\n",
    "train_dataloader = GroupSimilarityDataLoader(JsonDataset('./labeled_data_train.json'), batch_size=128)\n",
    "val_dataloader = GroupSimilarityDataLoader(JsonDataset('./labeled_data_val.json'), batch_size=128)"
   ]
  },
  {
   "cell_type": "code",
   "execution_count": null,
   "metadata": {},
   "outputs": [],
   "source": [
    "ds = JsonDataset('./labeled_data_train.json')"
   ]
  },
  {
   "cell_type": "code",
   "execution_count": null,
   "metadata": {},
   "outputs": [],
   "source": [
    "ds.__getitem__(1)"
   ]
  },
  {
   "cell_type": "code",
   "execution_count": null,
   "metadata": {},
   "outputs": [],
   "source": [
    "class DescriptionEncoder(Encoder):\n",
    "    def __init__(self, transformer: Transformer, pooling: Pooling):\n",
    "        super().__init__()\n",
    "        self.transformer = transformer\n",
    "        self.pooling = pooling\n",
    "        self.encoder = nn.Sequential(self.transformer, self.pooling)\n",
    "\n",
    "    @property\n",
    "    def trainable(self) -> bool:\n",
    "        return False # Disable weights update for this encoder\n",
    "\n",
    "    @property\n",
    "    def embedding_size(self) -> int:\n",
    "        return self.transformer.get_word_embedding_dimension()\n",
    "\n",
    "    def forward(self, batch) -> torch.Tensor:\n",
    "        return self.encoder(batch)[\"sentence_embedding\"]\n",
    "\n",
    "    def collate_descriptions(self, batch: List[Any]) -> torch.Tensor:\n",
    "        descriptions = [record['Title'] + '. ' + record['Description'] for record in batch]\n",
    "        return self.transformer.tokenize(descriptions)\n",
    "\n",
    "    def get_collate_fn(self) -> CollateFnType:\n",
    "        return self.collate_descriptions\n",
    "\n",
    "    def save(self, output_path: str):\n",
    "        self.transformer.save(os.path.join(output_path, 'transformer'))\n",
    "        self.pooling.save(os.path.join(output_path, 'pooling'))\n",
    "\n",
    "    @classmethod\n",
    "    def load(cls, input_path: str) -> Encoder:\n",
    "        transformer = Transformer.load(os.path.join(input_path, 'transformer'))\n",
    "        pooling = Pooling.load(os.path.join(input_path, 'pooling'))\n",
    "        return cls(transformer=transformer, pooling=pooling)"
   ]
  },
  {
   "cell_type": "code",
   "execution_count": null,
   "metadata": {},
   "outputs": [],
   "source": [
    "class Model(TrainableModel):\n",
    "    def __init__(self, lr: float):\n",
    "        self._lr = lr\n",
    "        super().__init__()\n",
    "\n",
    "    def configure_encoders(self) -> Union[Encoder, Dict[str, Encoder]]:\n",
    "        pre_trained = SentenceTransformer(\"all-MiniLM-L6-v2\")\n",
    "        transformer, pooling = pre_trained[0], pre_trained[1]\n",
    "        return DescriptionEncoder(transformer, pooling)\n",
    "\n",
    "    def configure_head(self, input_embedding_size) -> EncoderHead:\n",
    "        return SkipConnectionHead(input_embedding_size)\n",
    "\n",
    "    def configure_loss(self) -> SimilarityLoss:\n",
    "        return TripletLoss()\n",
    "\n",
    "    def configure_optimizers(self):\n",
    "        return torch.optim.Adam( self.model.parameters(), lr=self._lr)"
   ]
  },
  {
   "cell_type": "code",
   "execution_count": null,
   "metadata": {},
   "outputs": [],
   "source": [
    "model = Model(lr=0.01)\n",
    "\n",
    "Quaterion.fit(\n",
    "    trainable_model=model,\n",
    "    trainer=None, # Use default trainer\n",
    "    train_dataloader=train_dataloader,\n",
    "    val_dataloader=val_dataloader\n",
    ")"
   ]
  }
 ],
 "metadata": {
  "interpreter": {
   "hash": "31f2aee4e71d21fbe5cf8b01ff0e069b9275f58929596ceb00d14d90e3e16cd6"
  },
  "kernelspec": {
   "display_name": "Python 3.9.2 64-bit",
   "language": "python",
   "name": "python3"
  },
  "language_info": {
   "codemirror_mode": {
    "name": "ipython",
    "version": 3
   },
   "file_extension": ".py",
   "mimetype": "text/x-python",
   "name": "python",
   "nbconvert_exporter": "python",
   "pygments_lexer": "ipython3",
   "version": "3.9.2"
  },
  "orig_nbformat": 4
 },
 "nbformat": 4,
 "nbformat_minor": 2
}
