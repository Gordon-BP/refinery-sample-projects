{
 "cells": [
  {
   "cell_type": "code",
   "execution_count": null,
   "metadata": {},
   "outputs": [],
   "source": [
    "import argparse\n",
    "import json\n",
    "import os\n",
    "import random\n",
    "from typing import Any, Dict, List, Union\n",
    "\n",
    "import pytorch_lightning as pl\n",
    "import torch\n",
    "from quaterion_models.encoders import Encoder\n",
    "from quaterion_models.heads import EncoderHead, GatedHead, SkipConnectionHead\n",
    "from quaterion_models.types import CollateFnType\n",
    "from torch.utils.data import Dataset\n",
    "\n",
    "from quaterion import Quaterion, TrainableModel\n",
    "from quaterion.loss import TripletLoss\n",
    "from quaterion.dataset.similarity_data_loader import (\n",
    "    GroupSimilarityDataLoader,\n",
    "    SimilarityGroupSample,\n",
    ")\n",
    "\n",
    "import torch\n",
    "import torch.nn as nn\n",
    "\n",
    "from quaterion.loss import SimilarityLoss, SoftmaxLoss\n",
    "\n",
    "from sentence_transformers import SentenceTransformer\n",
    "from sentence_transformers.models import Transformer, Pooling\n",
    "\n",
    "import pandas as pd\n"
   ]
  },
  {
   "cell_type": "markdown",
   "metadata": {},
   "source": [
    "# Data Loading and Model Definition"
   ]
  },
  {
   "cell_type": "code",
   "execution_count": null,
   "metadata": {},
   "outputs": [],
   "source": [
    "with open(\"./labeled_data_train.json\", \"r\") as f:\n",
    "    train_data = json.loads(f.read())\n",
    "\n",
    "with open(\"./labeled_data_val.json\", \"r\") as f:\n",
    "    val_data = json.loads(f.read())\n",
    "\n",
    "with open(\"./labeled_data_test.json\", \"r\") as f:\n",
    "    test_data = json.loads(f.read())"
   ]
  },
  {
   "cell_type": "code",
   "execution_count": null,
   "metadata": {},
   "outputs": [],
   "source": [
    "from quaterion.dataset.similarity_data_loader import (\n",
    "    GroupSimilarityDataLoader,\n",
    "    SimilarityGroupSample,\n",
    ")\n",
    "import numpy as np\n",
    "\n",
    "class JsonDataset(Dataset):\n",
    "    def __init__(self, path: str):\n",
    "        super().__init__()\n",
    "        self.translation_dict = {\n",
    "            \"World\" : 1,\n",
    "            \"Sports\" : 2,\n",
    "            \"Business\" : 3,\n",
    "            \"Sci/Tech\" : 4\n",
    "        }\n",
    "        with open(path, \"r\") as f:\n",
    "            self.data = json.loads(f.read())\n",
    "            # self.data = [json.loads(line) for line in f.readlines()]\n",
    "\n",
    "    def __getitem__(self, index: int) -> SimilarityGroupSample:\n",
    "        item = self.data[index]\n",
    "        return SimilarityGroupSample(obj=item, group=self.translation_dict[item[\"label\"]])\n",
    "\n",
    "    def __len__(self) -> int:\n",
    "        return len(self.data)"
   ]
  },
  {
   "cell_type": "code",
   "execution_count": null,
   "metadata": {},
   "outputs": [],
   "source": [
    "class DescriptionEncoder(Encoder):\n",
    "    def __init__(self, transformer: Transformer, pooling: Pooling):\n",
    "        super().__init__()\n",
    "        self.transformer = transformer\n",
    "        self.pooling = pooling\n",
    "        self.encoder = nn.Sequential(self.transformer, self.pooling)\n",
    "\n",
    "    @property\n",
    "    def trainable(self) -> bool:\n",
    "        return False # Disable weights update for this encoder\n",
    "\n",
    "    @property\n",
    "    def embedding_size(self) -> int:\n",
    "        return self.transformer.get_word_embedding_dimension()\n",
    "\n",
    "    def forward(self, batch) -> torch.Tensor:\n",
    "        return self.encoder(batch)[\"sentence_embedding\"]\n",
    "\n",
    "    def collate_descriptions(self, batch: List[Any]) -> torch.Tensor:\n",
    "        descriptions = [record['Title'] + '. ' + record['Description'] for record in batch]\n",
    "        return self.transformer.tokenize(descriptions)\n",
    "\n",
    "    def get_collate_fn(self) -> CollateFnType:\n",
    "        return self.collate_descriptions\n",
    "\n",
    "    @staticmethod\n",
    "    def _transformer_path(path: str) -> str:\n",
    "        return os.path.join(path, \"transformer\")\n",
    "\n",
    "    @staticmethod\n",
    "    def _pooling_path(path: str) -> str:\n",
    "        return os.path.join(path, \"pooling\")\n",
    "\n",
    "    def save(self, output_path: str):\n",
    "\n",
    "        transformer_path = self._transformer_path(output_path)\n",
    "        os.makedirs(transformer_path, exist_ok=True)\n",
    "\n",
    "        pooling_path = self._pooling_path(output_path)\n",
    "        os.makedirs(pooling_path, exist_ok=True)\n",
    "\n",
    "        self.transformer.save(transformer_path)\n",
    "        self.pooling.save(pooling_path)\n",
    "\n",
    "    @classmethod\n",
    "    def load(cls, input_path: str) -> Encoder:\n",
    "        transformer = Transformer.load(os.path.join(input_path, 'transformer'))\n",
    "        pooling = Pooling.load(os.path.join(input_path, 'pooling'))\n",
    "        return cls(transformer=transformer, pooling=pooling)"
   ]
  },
  {
   "cell_type": "code",
   "execution_count": null,
   "metadata": {},
   "outputs": [],
   "source": [
    "class Model(TrainableModel):\n",
    "    def __init__(self, lr: float):\n",
    "        self._lr = lr\n",
    "        super().__init__()\n",
    "\n",
    "    def configure_encoders(self) -> Union[Encoder, Dict[str, Encoder]]:\n",
    "        pre_trained = SentenceTransformer(\"all-MiniLM-L6-v2\")\n",
    "        transformer, pooling = pre_trained[0], pre_trained[1]\n",
    "        return DescriptionEncoder(transformer, pooling)\n",
    "\n",
    "    def configure_head(self, input_embedding_size) -> EncoderHead:\n",
    "        return SkipConnectionHead(input_embedding_size)\n",
    "\n",
    "    def configure_loss(self) -> SimilarityLoss:\n",
    "        return TripletLoss()\n",
    "\n",
    "    def configure_optimizers(self):\n",
    "        return torch.optim.Adam( self.model.parameters(), lr=self._lr)"
   ]
  },
  {
   "cell_type": "markdown",
   "metadata": {},
   "source": [
    "# Training"
   ]
  },
  {
   "cell_type": "code",
   "execution_count": null,
   "metadata": {},
   "outputs": [],
   "source": [
    "model = Model(lr=0.001)\n",
    "\n",
    "train_dataloader = GroupSimilarityDataLoader(JsonDataset('./labeled_data_train.json'), batch_size=128)\n",
    "val_dataloader = GroupSimilarityDataLoader(JsonDataset('./labeled_data_val.json'), batch_size=128)\n",
    "\n",
    "Quaterion.fit(\n",
    "    trainable_model=model,\n",
    "    trainer=None, # Use default trainer\n",
    "    train_dataloader=train_dataloader,\n",
    "    val_dataloader=val_dataloader\n",
    ")"
   ]
  },
  {
   "cell_type": "code",
   "execution_count": null,
   "metadata": {},
   "outputs": [],
   "source": [
    "model.save_servable(\"finetuned_model\")"
   ]
  },
  {
   "cell_type": "markdown",
   "metadata": {},
   "source": [
    "# Inspect Training Logs"
   ]
  },
  {
   "cell_type": "code",
   "execution_count": null,
   "metadata": {},
   "outputs": [],
   "source": [
    "%load_ext tensorboard\n",
    "%tensorboard --logdir lightning_logs"
   ]
  },
  {
   "cell_type": "markdown",
   "metadata": {},
   "source": [
    "# Evaluation"
   ]
  },
  {
   "cell_type": "code",
   "execution_count": null,
   "metadata": {},
   "outputs": [],
   "source": [
    "from quaterion_models.model import SimilarityModel\n",
    "\n",
    "inf_model = SimilarityModel.load(\"finetuned_model\")\n",
    "raw_model = Model(lr=0.001)"
   ]
  },
  {
   "cell_type": "code",
   "execution_count": null,
   "metadata": {},
   "outputs": [],
   "source": [
    "test_df = pd.read_json(\"labeled_data_test.json\", orient=\"records\")\n",
    "test_df_json = json.loads(test_df.to_json(orient=\"records\"))"
   ]
  },
  {
   "cell_type": "code",
   "execution_count": null,
   "metadata": {},
   "outputs": [],
   "source": [
    "raw_test_embeddings = raw_model.model.encode(test_df_json)\n",
    "finetuned_test_embeddings = inf_model.encode(test_df_json)"
   ]
  },
  {
   "cell_type": "code",
   "execution_count": null,
   "metadata": {},
   "outputs": [],
   "source": [
    "# Optional\n",
    "torch.save(raw_test_embeddings, \"raw_test_embeddings.pt\")\n",
    "torch.save(finetuned_test_embeddings, \"finetuned_test_embeddings.pt\")"
   ]
  },
  {
   "cell_type": "code",
   "execution_count": null,
   "metadata": {},
   "outputs": [],
   "source": [
    "from scipy.spatial.distance import cdist\n",
    "def get_most_similar_idxs(embedding, embedding_matrix, n=10, embedding_in_matrix=True):\n",
    "  dists = cdist(embedding.reshape(1,-1), embedding_matrix, metric=\"cosine\")\n",
    "  if(embedding_in_matrix):\n",
    "    return np.argsort(dists[0])[1:n+1]\n",
    "  else:\n",
    "    return np.argsort(dists[0])[:n]\n",
    "\n",
    "def get_top1k(model, test_df_json, pre_calculated_embeddings = None, k=1000):\n",
    "  if(pre_calculated_embeddings is not None):\n",
    "    embeddings = pre_calculated_embeddings\n",
    "  else:\n",
    "    embeddings = model.encode(test_df_json)\n",
    "  test_idxs = np.random.randint(0, len(test_df_json), size = 250)\n",
    "  top_1ks = []\n",
    "  for idx in test_idxs:\n",
    "    label = test_df_json[idx][\"label\"]\n",
    "    dists = cdist(embeddings[idx].reshape(1,-1), embeddings, metric=\"cosine\")\n",
    "    top_1k_idxs = np.argsort(dists[0])[1:k+1]\n",
    "    diffs = [1 if record[\"label\"] != label else 0 for record in np.array(test_df_json)[top_1k_idxs]]\n",
    "    top1k_metric = 1 - np.sum(diffs) / len(diffs)\n",
    "    top_1ks.append(top1k_metric)\n",
    "  return top_1ks"
   ]
  },
  {
   "cell_type": "markdown",
   "metadata": {},
   "source": [
    "## Top_1k"
   ]
  },
  {
   "cell_type": "code",
   "execution_count": null,
   "metadata": {},
   "outputs": [],
   "source": [
    "top1k_tuned = get_top1k(None, test_df_json, pre_calculated_embeddings = finetuned_test_embeddings, k=1000)\n",
    "top1k_raw = get_top1k(None, test_df_json, pre_calculated_embeddings = raw_test_embeddings,k=1000)"
   ]
  },
  {
   "cell_type": "code",
   "execution_count": null,
   "metadata": {},
   "outputs": [],
   "source": [
    "import seaborn as sns\n",
    "import matplotlib.pyplot as plt\n",
    "\n",
    "ax = sns.violinplot(data=[top1k_tuned, top1k_raw])\n",
    "ax.set_xticklabels([\"fine-tuned\", \"raw\"])\n",
    "ax.set_yticks([0.0,0.2,0.4,0.6,0.8,1.0])\n",
    "ax.set_title(\"Top_1k metric (higher -> better)\")\n",
    "# plt.savefig(\"figures/top_1k_distribution.png\", dpi=300)"
   ]
  },
  {
   "cell_type": "markdown",
   "metadata": {},
   "source": [
    "## Top_k"
   ]
  },
  {
   "cell_type": "code",
   "execution_count": null,
   "metadata": {},
   "outputs": [],
   "source": [
    "tuned = []\n",
    "raw = []\n",
    "eval_ks = [5,10,25,50,75,100,250]\n",
    "for k in eval_ks:\n",
    "  top1k_tuned_k = get_top1k(None, test_df_json, pre_calculated_embeddings = finetuned_test_embeddings, k=k)\n",
    "  top1k_raw_k = get_top1k(None, test_df_json, pre_calculated_embeddings = raw_test_embeddings,k=k)\n",
    "  tuned.append(np.mean(top1k_tuned_k))\n",
    "  raw.append(np.mean(top1k_raw_k))"
   ]
  },
  {
   "cell_type": "code",
   "execution_count": null,
   "metadata": {},
   "outputs": [],
   "source": [
    "import matplotlib.pyplot as plt\n",
    "\n",
    "plt.plot(eval_ks, tuned, marker=\".\", label=\"fine-tuned\")\n",
    "plt.plot(eval_ks, raw, c=\"red\", marker=\".\", label=\"raw\")\n",
    "plt.xticks(eval_ks[1:])\n",
    "plt.title(\"top_k metric for different values for k\")\n",
    "plt.legend()\n",
    "# plt.savefig(\"figures/top_k_metric.png\", dpi=300)"
   ]
  },
  {
   "cell_type": "markdown",
   "metadata": {},
   "source": [
    "## Classification"
   ]
  },
  {
   "cell_type": "code",
   "execution_count": null,
   "metadata": {},
   "outputs": [],
   "source": [
    "from sklearn.linear_model import LogisticRegression\n",
    "from sklearn.metrics import classification_report"
   ]
  },
  {
   "cell_type": "code",
   "execution_count": null,
   "metadata": {},
   "outputs": [],
   "source": [
    "with open(\"./labeled_data_train.json\", \"r\") as f:\n",
    "    train_data = json.loads(f.read())\n",
    "\n",
    "raw_embeddings_train = raw_model.model.encode(train_data)\n",
    "finetuned_embeddings_train = inf_model.encode(train_data)"
   ]
  },
  {
   "cell_type": "code",
   "execution_count": null,
   "metadata": {},
   "outputs": [],
   "source": [
    "labels = [record[\"label\"] for record in train_data]"
   ]
  },
  {
   "cell_type": "code",
   "execution_count": null,
   "metadata": {},
   "outputs": [],
   "source": [
    "clf_raw = LogisticRegression(random_state=42).fit(raw_embeddings_train, labels)\n",
    "clf_tuned = LogisticRegression(random_state=42).fit(finetuned_embeddings_train, labels)"
   ]
  },
  {
   "cell_type": "code",
   "execution_count": null,
   "metadata": {},
   "outputs": [],
   "source": [
    "y_pred_raw = clf_raw.predict(raw_test_embeddings)\n",
    "y_pred_tuned = clf_tuned.predict(finetuned_test_embeddings)"
   ]
  },
  {
   "cell_type": "code",
   "execution_count": null,
   "metadata": {},
   "outputs": [],
   "source": [
    "print(classification_report([record[\"label\"] for record in test_data], y_pred_raw))"
   ]
  },
  {
   "cell_type": "code",
   "execution_count": null,
   "metadata": {},
   "outputs": [],
   "source": [
    "print(classification_report(test_df[\"label\"].values, y_pred_tuned))"
   ]
  }
 ],
 "metadata": {
  "kernelspec": {
   "display_name": "Python 3.8.0 ('onetask')",
   "language": "python",
   "name": "python3"
  },
  "language_info": {
   "codemirror_mode": {
    "name": "ipython",
    "version": 3
   },
   "file_extension": ".py",
   "mimetype": "text/x-python",
   "name": "python",
   "nbconvert_exporter": "python",
   "pygments_lexer": "ipython3",
   "version": "3.8.0"
  },
  "orig_nbformat": 4,
  "vscode": {
   "interpreter": {
    "hash": "9a8dd3a8ce1b4c991bd9fc20ecbd33bb3a991b4d95e67424ec48b6633f11a8d8"
   }
  }
 },
 "nbformat": 4,
 "nbformat_minor": 2
}
