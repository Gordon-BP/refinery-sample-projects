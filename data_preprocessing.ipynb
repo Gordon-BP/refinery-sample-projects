{
 "cells": [
  {
   "cell_type": "code",
   "execution_count": 1,
   "metadata": {},
   "outputs": [
    {
     "name": "stdout",
     "output_type": "stream",
     "text": [
      "ℹ Connecting to https://app.dev.kern.ai\n",
      "✔ Logged in to system.\n"
     ]
    }
   ],
   "source": [
    "from refinery import Client\n",
    "\n",
    "# if you run the application locally, use \"http://localhost:4455\" as the uri\n",
    "client = Client.from_secrets_file(\"secrets.json\")\n",
    "\n",
    "df = client.get_record_export(tokenize=False)"
   ]
  },
  {
   "cell_type": "code",
   "execution_count": 2,
   "metadata": {},
   "outputs": [],
   "source": [
    "filtered_df = df[\n",
    "    (df[\"__Topic__WEAK_SUPERVISION__confidence\"].astype(float) > 0.7) # either threshold WS label\n",
    "    | ~(df[\"__Topic__MANUAL\"].isnull()) # or manual label\n",
    "    ]\n",
    "\n",
    "test_idx = [not elem for elem in df.index.isin(filtered_df.index)]\n",
    "test_df = df.loc[test_idx][[\"Title\", \"Description\", \"Class Index\"]]"
   ]
  },
  {
   "cell_type": "code",
   "execution_count": 21,
   "metadata": {},
   "outputs": [],
   "source": [
    "translation_dict = {\n",
    "            \"World\" : 1,\n",
    "            \"Sports\" : 2,\n",
    "            \"Business\" : 3,\n",
    "            \"Sci/Tech\" : 4\n",
    "        }\n",
    "\n",
    "translat = [\"\", \"World\", \"Sports\", \"Business\", \"Sci/Tech\"]\n",
    "\n",
    "test_df[\"label\"] = test_df[\"Class Index\"].apply(lambda x: translat[int(x)])"
   ]
  },
  {
   "cell_type": "code",
   "execution_count": 3,
   "metadata": {},
   "outputs": [],
   "source": [
    "def combine_labels(row):\n",
    "    if(row[\"__Topic__MANUAL\"] is not None):\n",
    "        return row[\"__Topic__MANUAL\"]\n",
    "    else:\n",
    "        return row[\"__Topic__WEAK_SUPERVISION\"]\n",
    "\n",
    "filtered_df[\"label\"] = filtered_df.apply(combine_labels, axis=1)"
   ]
  },
  {
   "cell_type": "code",
   "execution_count": 7,
   "metadata": {},
   "outputs": [],
   "source": [
    "from sklearn.model_selection import train_test_split\n",
    "\n",
    "train_idx, val_idx = train_test_split(filtered_df.index, test_size=0.25, random_state=42)\n",
    "\n",
    "filtered_df_val = filtered_df[[\"Title\", \"Description\", \"label\"]].loc[val_idx]\n",
    "filtered_df_train = filtered_df[[\"Title\", \"Description\", \"label\"]].loc[train_idx]\n",
    "\n",
    "test_df[[\"Title\", \"Description\", \"label\"]].to_json(\"labeled_data_test.json\", orient=\"records\")\n",
    "filtered_df_val[[\"Title\", \"Description\", \"label\"]].to_json(\"labeled_data_val.json\", orient=\"records\")\n",
    "filtered_df_train[[\"Title\", \"Description\", \"label\"]].to_json(\"labeled_data_train.json\", orient=\"records\")"
   ]
  }
 ],
 "metadata": {
  "kernelspec": {
   "display_name": "Python 3.8.0 ('onetask')",
   "language": "python",
   "name": "python3"
  },
  "language_info": {
   "codemirror_mode": {
    "name": "ipython",
    "version": 3
   },
   "file_extension": ".py",
   "mimetype": "text/x-python",
   "name": "python",
   "nbconvert_exporter": "python",
   "pygments_lexer": "ipython3",
   "version": "3.8.0"
  },
  "orig_nbformat": 4,
  "vscode": {
   "interpreter": {
    "hash": "9a8dd3a8ce1b4c991bd9fc20ecbd33bb3a991b4d95e67424ec48b6633f11a8d8"
   }
  }
 },
 "nbformat": 4,
 "nbformat_minor": 2
}
